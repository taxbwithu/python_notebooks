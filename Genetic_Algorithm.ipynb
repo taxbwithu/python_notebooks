{
 "cells": [
  {
   "cell_type": "code",
   "execution_count": 1,
   "metadata": {},
   "outputs": [
    {
     "name": "stdout",
     "output_type": "stream",
     "text": [
      "(10, 3)\n"
     ]
    }
   ],
   "source": [
    "import numpy as np\n",
    "import random\n",
    "\n",
    "def gen_pop(ep): \n",
    "    ppl = []\n",
    "    for i in range(ep):\n",
    "        x1 = random.uniform(-1.5, 4)\n",
    "        x2 = random.uniform(-3, 4)\n",
    "        fun = np.sin(x1 + x2) + ((x1 - x2) ** 2) - (1.5 * x1) + (2.5 * x2) +1\n",
    "        result = [x1, x2, fun]\n",
    "        ppl.append(result)\n",
    "    return ppl\n",
    "\n",
    "population = np.array(gen_pop(10))\n",
    "print(population.shape)"
   ]
  },
  {
   "cell_type": "markdown",
   "metadata": {},
   "source": [
    "Binarna reprezentacja chromosomu:"
   ]
  },
  {
   "cell_type": "code",
   "execution_count": 6,
   "metadata": {},
   "outputs": [
    {
     "name": "stdout",
     "output_type": "stream",
     "text": [
      "17506304\n",
      "1.00001011001e+24\n",
      "8.195721636730755e+16\n"
     ]
    }
   ],
   "source": [
    "import numpy as np\n",
    "import math\n",
    "import struct\n",
    "from decimal import *\n",
    "\n",
    "def chain_len(acc, bup, bdown):\n",
    "    m = math.ceil(np.log2((bup - bdown) * (10 ** acc)) + np.log2(1))\n",
    "    return m\n",
    "\n",
    "def to_bin(x, m):\n",
    "    res = format(struct.unpack('!I', struct.pack('!f', x))[0], '032b')\n",
    "    return res[:m]\n",
    "\n",
    "def to_dec(x, m, bup, bdown):\n",
    "    print(float(x))\n",
    "    res = bdown + float(Decimal(x))*((bup-bdown)/((2**m)-1))\n",
    "    return res\n",
    "\n",
    "border_up = 4\n",
    "border_down = -1.5\n",
    "border_downx2 = -4\n",
    "\n",
    "m1 = chain_len(7, border_up, border_down)\n",
    "m2 = chain_len(7, border_up, border_downx2)\n",
    "\n",
    "\n",
    "x = 100\n",
    "\n",
    "b = to_bin(x, m1)\n",
    "\n",
    "print(int(b,2))\n",
    "\n",
    "res = to_dec(b, m1, border_up, border_down)\n",
    "\n",
    "print(res)"
   ]
  },
  {
   "cell_type": "code",
   "execution_count": 3,
   "metadata": {},
   "outputs": [
    {
     "name": "stdout",
     "output_type": "stream",
     "text": [
      "0b110\n"
     ]
    }
   ],
   "source": [
    "binary = \"0b101\"\n",
    "binary2 = \"0b1\"\n",
    "\n",
    "intsum = int(binary,2) + int(binary2,2)\n",
    "res = bin(intsum)\n",
    "\n",
    "print(res)\n",
    "\n",
    "\n",
    "format(struct.unpack('!I', struct.pack('!f', x))[0], '032b')"
   ]
  },
  {
   "cell_type": "code",
   "execution_count": null,
   "metadata": {},
   "outputs": [],
   "source": []
  }
 ],
 "metadata": {
  "kernelspec": {
   "display_name": "Python 3",
   "language": "python",
   "name": "python3"
  },
  "language_info": {
   "codemirror_mode": {
    "name": "ipython",
    "version": 3
   },
   "file_extension": ".py",
   "mimetype": "text/x-python",
   "name": "python",
   "nbconvert_exporter": "python",
   "pygments_lexer": "ipython3",
   "version": "3.8.3"
  }
 },
 "nbformat": 4,
 "nbformat_minor": 4
}

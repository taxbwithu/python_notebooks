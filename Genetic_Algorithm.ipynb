{
 "cells": [
  {
   "cell_type": "code",
   "execution_count": 25,
   "metadata": {},
   "outputs": [
    {
     "name": "stdout",
     "output_type": "stream",
     "text": [
      "3\n"
     ]
    }
   ],
   "source": [
    "import numpy as np\n",
    "import random\n",
    "\n",
    "def gen_pop(ep): \n",
    "    ppl = []\n",
    "    for i in range(ep):\n",
    "        x1 = random.uniform(-1.5, 4)\n",
    "        x2 = random.uniform(-3, 4)\n",
    "        fun = np.sin(x1 + x2) + ((x1 - x2) ** 2) - (1.5 * x1) + (2.5 * x2) +1\n",
    "        result = [x1, x2, fun]\n",
    "        ppl.append(result)\n",
    "    \n",
    "    \n",
    "    ppl.sort(key=lambda x: x[2])\n",
    "    flipx = list(zip(*ppl))\n",
    "    return flipx\n",
    "\n",
    "population = np.array(gen_pop(10))\n",
    "print(len(population))"
   ]
  },
  {
   "cell_type": "markdown",
   "metadata": {},
   "source": [
    "Binarna reprezentacja chromosomu:"
   ]
  },
  {
   "cell_type": "code",
   "execution_count": 45,
   "metadata": {},
   "outputs": [
    {
     "name": "stdout",
     "output_type": "stream",
     "text": [
      "1100100.11001100110011001100110011\n"
     ]
    }
   ],
   "source": [
    "import numpy as np\n",
    "import math\n",
    "import struct\n",
    "from decimal import *\n",
    "\n",
    "def chain_len(acc, bup, bdown):\n",
    "    m = math.ceil(np.log2((bup - bdown) * (10 ** acc)) + np.log2(1))\n",
    "    return m\n",
    "\n",
    "def to_bin(number, places = 3):\n",
    "    # split() seperates whole number and decimal  \n",
    "    # part and stores it in two seperate variables \n",
    "    whole, dec = str(number).split(\".\") \n",
    "  \n",
    "    # Convert both whole number and decimal   \n",
    "    # part from string type to integer type \n",
    "    whole = int(whole) \n",
    "    dec = int (dec) \n",
    "  \n",
    "    # Convert the whole number part to it's \n",
    "    # respective binary form and remove the \n",
    "    # \"0b\" from it. \n",
    "    res = bin(whole).lstrip(\"0b\") + \".\"\n",
    "  \n",
    "    # Iterate the number of times, we want \n",
    "    # the number of decimal places to be \n",
    "    for x in range(places): \n",
    "  \n",
    "        # Multiply the decimal value by 2  \n",
    "        # and seperate the whole number part \n",
    "        # and decimal part \n",
    "        whole, dec = str((decimal_converter(dec)) * 2).split(\".\") \n",
    "  \n",
    "        # Convert the decimal part \n",
    "        # to integer again \n",
    "        dec = int(dec) \n",
    "  \n",
    "        # Keep adding the integer parts  \n",
    "        # receive to the result variable \n",
    "        res += whole \n",
    "  \n",
    "    return res \n",
    "  \n",
    "# Function converts the value passed as \n",
    "# parameter to it's decimal representation \n",
    "def decimal_converter(num):  \n",
    "    while num > 1: \n",
    "        num /= 10\n",
    "    return num\n",
    "\n",
    "def to_dec(x, m, bup, bdown):\n",
    "    res = bdown + float(Decimal(x))*((bup-bdown)/((2**m)-1))\n",
    "    return res\n",
    "\n",
    "border_up = 4\n",
    "border_down = -1.5\n",
    "border_downx2 = -4\n",
    "\n",
    "m1 = chain_len(7, border_up, border_down)\n",
    "m2 = chain_len(7, border_up, border_downx2)\n",
    "\n",
    "\n",
    "x = 100.53\n",
    "\n",
    "b = to_bin(x, m1)\n",
    "\n",
    "d = Decimal(b)\n",
    "\n",
    "print(d)\n",
    "\n",
    "res = to_dec(b, m1, border_up, border_down)\n",
    "\n"
   ]
  },
  {
   "cell_type": "markdown",
   "metadata": {},
   "source": [
    "Selekcja najlepszych"
   ]
  },
  {
   "cell_type": "code",
   "execution_count": 46,
   "metadata": {},
   "outputs": [
    {
     "data": {
      "text/plain": [
       "[(1.951519464529187, -2.6473646166165783, 11.96300972054544),\n",
       " (0.2202101133568921, 3.5045924755800018, 19.667627420320002),\n",
       " (-1.409236329982196, 2.198261733820331, 22.333218080086),\n",
       " (-0.9062731646768682, 3.0069937899060095, 26.053397817318615)]"
      ]
     },
     "execution_count": 46,
     "metadata": {},
     "output_type": "execute_result"
    }
   ],
   "source": [
    "def select_best(x, prc, isMin):\n",
    "    flipx = list(zip(*x))\n",
    "    temp = []\n",
    "    if isMin == True:\n",
    "        for i in range(0,int((len(x[2])/100)*prc)):\n",
    "            temp.append(flipx[i])\n",
    "    else:\n",
    "        for i in range(int((len(x[2])/100)*(100-prc)),len(x[2])):\n",
    "            temp.append(flipx[i])\n",
    "    return temp\n",
    "\n",
    "population = np.array(gen_pop(10))\n",
    "select_best(population, 40, False)"
   ]
  },
  {
   "cell_type": "code",
   "execution_count": 31,
   "metadata": {},
   "outputs": [
    {
     "name": "stdout",
     "output_type": "stream",
     "text": [
      "2\n"
     ]
    }
   ],
   "source": [
    "x = 5//2\n",
    "print(x)"
   ]
  },
  {
   "cell_type": "code",
   "execution_count": null,
   "metadata": {},
   "outputs": [],
   "source": []
  }
 ],
 "metadata": {
  "kernelspec": {
   "display_name": "Python 3",
   "language": "python",
   "name": "python3"
  },
  "language_info": {
   "codemirror_mode": {
    "name": "ipython",
    "version": 3
   },
   "file_extension": ".py",
   "mimetype": "text/x-python",
   "name": "python",
   "nbconvert_exporter": "python",
   "pygments_lexer": "ipython3",
   "version": "3.8.3"
  }
 },
 "nbformat": 4,
 "nbformat_minor": 4
}

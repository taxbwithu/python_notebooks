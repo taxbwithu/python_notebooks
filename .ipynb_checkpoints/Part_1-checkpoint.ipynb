{
 "cells": [
  {
   "cell_type": "markdown",
   "metadata": {},
   "source": [
    "## Wprowadzenie do języka Python"
   ]
  },
  {
   "cell_type": "markdown",
   "metadata": {},
   "source": [
    "1. Podstawowe typy danych.\n",
    "    * Stwórz i wypisz (funkcja print) zmienne zawierające następujące typy danych: **int, float, complex, string, boolean**.\n",
    "    * Czym różnią się **', \", '''** i **\"\"\"** w przypadku stringów?"
   ]
  },
  {
   "cell_type": "markdown",
   "metadata": {},
   "source": [
    "    Apostrofy i cudzysłowy służą do przechowywania wartości string. Jeśli w tekście znajdują się apostrofy, to należy zamknąć go w cudzysłowie i odwrotnie. Potrójny apostrof i potrójny cydzysłów pozwala na wypisanie tekstu w wielu liniach, czyniąc go bardziej czytelnym. "
   ]
  },
  {
   "cell_type": "code",
   "execution_count": 12,
   "metadata": {},
   "outputs": [
    {
     "name": "stdout",
     "output_type": "stream",
     "text": [
      "Int:  2 \n",
      "Float:  4.9 \n",
      "Complex:  2.0   4.9 \n",
      "String:  string \n",
      "Boolean:  False\n"
     ]
    }
   ],
   "source": [
    "    a = 2\n",
    "    b = 4.9\n",
    "    c = complex(a, b)\n",
    "    d = \"string\"\n",
    "    e = False\n",
    "    \n",
    "    print(\"Int: \",a, \"\\nFloat: \", b, \"\\nComplex: \", c.real,\" \", c.imag, \"\\nString: \", d, \"\\nBoolean: \", e)"
   ]
  },
  {
   "cell_type": "markdown",
   "metadata": {},
   "source": [
    "2. Operatory arytmetyczne.\n",
    "    * Operatory arytmetyczne: **+, -, *, /, //, **, %**.  \n",
    "    * Wyjaśnij znaczenie powyższych operatorów arytmetycznych oraz wykonaj operacje arytmetyczne na dowolnych typach danych i wyświetl wynik.\n",
    "    "
   ]
  },
  {
   "cell_type": "code",
   "execution_count": 17,
   "metadata": {},
   "outputs": [
    {
     "name": "stdout",
     "output_type": "stream",
     "text": [
      "Wyniki: \n",
      "L - dodawanie: 7 \n",
      "M - odejmowanie: 4 \n",
      "N - dzielenie z resztą: 1.75 \n",
      "O - dzielenie całkowite: 1 \n",
      "P - mnożenie: 28 \n",
      "Q - reszta z dzielenia: 3\n"
     ]
    }
   ],
   "source": [
    "    l = 2+5\n",
    "    m = l-3\n",
    "    n = l/m\n",
    "    o = l//m\n",
    "    p = l*m\n",
    "    q = l%m\n",
    "    \n",
    "    print(\"Wyniki: \\nL - dodawanie:\",l, \"\\nM - odejmowanie:\",m, \"\\nN - dzielenie z resztą:\",n, \"\\nO - dzielenie całkowite:\",o, \n",
    "          \"\\nP - mnożenie:\",p, \"\\nQ - reszta z dzielenia:\",q)"
   ]
  },
  {
   "cell_type": "markdown",
   "metadata": {},
   "source": [
    "2. Struktury danych. \n",
    "    * Struktury danych: **list, tuple, set, dict**.  \n",
    "    * Dla każdej struktury danych stwórz pustą strukturę, dodaj do niej 3 dowolne elementy, następnie usuń jeden.  \n",
    "    * Jakie są różnice w poszczególnych strukturach?"
   ]
  },
  {
   "cell_type": "markdown",
   "metadata": {},
   "source": [
    "    List - jest kolekcją z uporządkowanymi danymi które można zmieniać. Zezwala na duplikaty.\n",
    "    Tuple - uporządkowana kolekcja, która nie pozwala na zmiany. Zezwala na duplikaty.\n",
    "    Set - nieuporządkowana kolekcja bez indeksów. Nie zezwala na duplikaty.\n",
    "    Dict - nieuporządkowana kolekcja z indeksami, pozwalająca na zmiany. Nie zezwala na duplikaty."
   ]
  },
  {
   "cell_type": "code",
   "execution_count": 31,
   "metadata": {},
   "outputs": [
    {
     "data": {
      "text/plain": [
       "([1, 3], (1, 2, 3), {2, 3}, {'język': 'python', 'przedmiot': 'MOW'})"
      ]
     },
     "execution_count": 31,
     "metadata": {},
     "output_type": "execute_result"
    }
   ],
   "source": [
    "    a = 1\n",
    "    b = 2\n",
    "    c = 3\n",
    "    \n",
    "    lst = []\n",
    "    tple = ()\n",
    "    st = set()\n",
    "    dct = {}\n",
    "    \n",
    "    lst.extend([a,b,c])\n",
    "    tple = tuple(lst)\n",
    "    st.update([a,b,c])\n",
    "    dct[\"język\"] = \"python\"\n",
    "    dct[\"przedmiot\"] = \"MOW\"\n",
    "    dct[\"ocena\"] = \"5.0\"\n",
    "    \n",
    "    lst.pop(1)\n",
    "    #można usunąć jedynie całe Tuple przez użycie komendy del\n",
    "    st.pop()\n",
    "    dct.popitem()\n",
    "    \n",
    "    lst, tple, st, dct"
   ]
  },
  {
   "cell_type": "markdown",
   "metadata": {},
   "source": [
    "3. Podstawowa kontrola przepływu danych.  \n",
    "    * Zapisz dowolny warunek logiczny z wykorzystaniem instrukcji warunkowych if, elif i else.\n",
    "    * Wypisz liczby od 0 do 10 za pomocą pęli **for i while**\n",
    "    * Napisz kod, który przeiteruje po strukturze list, tak aby wypisać wszystkie elementy wraz z ich pozycjami:  \n",
    "    ```\n",
    "    list = ['element1', 'element2', 'element3']\n",
    "    element1 indeks1\n",
    "    element2 indeks2\n",
    "    element3 indeks3\n",
    "    ```  \n",
    "    Pomocne może być wykorzystanie funkcji **enumerate()**\n",
    "    * Napisz kod, który przeiteruje jednocześnie po dwóch listach i wypisze ich elementy. Zapoznaj się z funkcją **zip()**.  \n",
    "    Czy można przeiterować przez większą ilość struktur danych, niż 2?"
   ]
  },
  {
   "cell_type": "code",
   "execution_count": 38,
   "metadata": {},
   "outputs": [
    {
     "name": "stdout",
     "output_type": "stream",
     "text": [
      "może\n"
     ]
    }
   ],
   "source": [
    "    t = True\n",
    "    f = False\n",
    "    if (t and f):\n",
    "        print(\"tak\")\n",
    "    elif (not t and not f):\n",
    "        print(\"nie\")\n",
    "    else:\n",
    "        print(\"może\")"
   ]
  },
  {
   "cell_type": "code",
   "execution_count": 43,
   "metadata": {
    "scrolled": true
   },
   "outputs": [
    {
     "name": "stdout",
     "output_type": "stream",
     "text": [
      "0\n",
      "1\n",
      "2\n",
      "3\n",
      "4\n",
      "5\n",
      "6\n",
      "7\n",
      "8\n",
      "9\n",
      "10\n",
      "0\n",
      "1\n",
      "2\n",
      "3\n",
      "4\n",
      "5\n",
      "6\n",
      "7\n",
      "8\n",
      "9\n",
      "10\n"
     ]
    }
   ],
   "source": [
    "    for x in range(11):\n",
    "        print(x)\n",
    "    \n",
    "    x = 0\n",
    "    \n",
    "    while x<11:\n",
    "        print(x)\n",
    "        x += 1"
   ]
  },
  {
   "cell_type": "code",
   "execution_count": 50,
   "metadata": {},
   "outputs": [
    {
     "name": "stdout",
     "output_type": "stream",
     "text": [
      "element1 0\n",
      "element2 1\n",
      "element3 2\n"
     ]
    }
   ],
   "source": [
    "    l = ['element1', 'element2', 'element3']\n",
    "    enum = enumerate(l)\n",
    "    \n",
    "    for index, value in enum:\n",
    "        print(value, index)"
   ]
  },
  {
   "cell_type": "code",
   "execution_count": 60,
   "metadata": {},
   "outputs": [
    {
     "name": "stdout",
     "output_type": "stream",
     "text": [
      "('element1', '1')\n",
      "('element2', '2')\n",
      "('element3', '3')\n"
     ]
    }
   ],
   "source": [
    "    l1 = ['element1', 'element2', 'element3']\n",
    "    l2 = ['1', '2', '3']\n",
    "    \n",
    "    result = zip(l1, l2)\n",
    "    \n",
    "    for res in result:\n",
    "        print(res)\n",
    "        \n",
    "    # funkcja zip działa z więcej niż jedną listą"
   ]
  },
  {
   "cell_type": "markdown",
   "metadata": {},
   "source": [
    "5. Funkcje\n",
    "    * Napisz funkcje wykonujące operacje dodawania, odejmowania, mnożenia dla dwóch argumentów.\n",
    "    * Rozwiń funkcje, aby wykonywały operacje dla dowolnej ilości argumentów."
   ]
  },
  {
   "cell_type": "code",
   "execution_count": 92,
   "metadata": {},
   "outputs": [
    {
     "name": "stdout",
     "output_type": "stream",
     "text": [
      "10\n",
      "1\n",
      "24\n"
     ]
    }
   ],
   "source": [
    "    def dodawanie(*args):\n",
    "        x = 0\n",
    "        for index, value in enumerate(args):\n",
    "            x = value + x\n",
    "            \n",
    "            \n",
    "        print(x)\n",
    "    \n",
    "    def odejmowanie(*args):\n",
    "        x = 0\n",
    "        for index, value in enumerate(args):\n",
    "            if (index == 0):\n",
    "                x = value\n",
    "            else:\n",
    "                x = x - value\n",
    "            \n",
    "        print(x)\n",
    "            \n",
    "    def mnożenie(*args):\n",
    "        x = 1\n",
    "        for index, value in enumerate(args):\n",
    "            x = value * x\n",
    "            \n",
    "        print(x)\n",
    "            \n",
    "    dodawanie(2,3,4,1)\n",
    "    odejmowanie(3,2)\n",
    "    mnożenie(2,6,2)\n",
    "        "
   ]
  },
  {
   "cell_type": "markdown",
   "metadata": {},
   "source": [
    "6. Obsługa plików\n",
    "    * Stwórz listę z liczbami od 1 do 20, następnie stwórz plik o nazwie \"plik.txt\", który w pierwszej lini będzie zawierał zdanie: \"Praca z plikiem.\", a w kolejnych liniach elementy z listy. Na końcu zamknij plik.\n",
    "    * Otwórz wcześniej stworzony plik i wypisz jego zawartość.\n",
    "    * Jakie są tryby otwierania pliku i co oznaczają?\n",
    "    * Czym różni się konstrukcja obsługi pliku ze słowem kluczowym `with`?\n",
    "    "
   ]
  },
  {
   "cell_type": "markdown",
   "metadata": {},
   "source": [
    "    Tryby otwierania pliku:\n",
    "    r - czytanie\n",
    "    r+ - czytanie i zapisywanie\n",
    "    w - zapisywanie\n",
    "    a - dodawanie na koniec pliku\n",
    "    x - tworzy nowy plik\n",
    "    t - tryb domyślny\n",
    "    b - tryb binarny\n",
    "    \n",
    "    with pozwala na dokonanie operacji na pliku bez potrzeby jego zamykania. Najbardziej przydaje się w przypadku otwarcia tylko jednego pliku"
   ]
  },
  {
   "cell_type": "code",
   "execution_count": 87,
   "metadata": {},
   "outputs": [
    {
     "name": "stdout",
     "output_type": "stream",
     "text": [
      "Praca z plikiem.\n",
      "1\n",
      "2\n",
      "3\n",
      "4\n",
      "5\n",
      "6\n",
      "7\n",
      "8\n",
      "9\n",
      "10\n",
      "11\n",
      "12\n",
      "13\n",
      "14\n",
      "15\n",
      "16\n",
      "17\n",
      "18\n",
      "19\n",
      "20\n",
      "\n"
     ]
    }
   ],
   "source": [
    "    l = []\n",
    "    for x in range(1,21):\n",
    "        l.append(x)\n",
    "        \n",
    "    f = open(\"wyniki.txt\",\"w\")\n",
    "    f.write(\"Praca z plikiem.\\n\")\n",
    "    for i in l:\n",
    "        f.write(str(i) + \"\\n\")\n",
    "        \n",
    "    f.close()\n",
    "    \n",
    "    file = open(\"wyniki.txt\",\"r\")\n",
    "    data = file.read()\n",
    "    print(data)\n",
    "    file.close()"
   ]
  },
  {
   "cell_type": "markdown",
   "metadata": {},
   "source": [
    "7. Klasy"
   ]
  }
 ],
 "metadata": {
  "kernelspec": {
   "display_name": "Python 3",
   "language": "python",
   "name": "python3"
  },
  "language_info": {
   "codemirror_mode": {
    "name": "ipython",
    "version": 3
   },
   "file_extension": ".py",
   "mimetype": "text/x-python",
   "name": "python",
   "nbconvert_exporter": "python",
   "pygments_lexer": "ipython3",
   "version": "3.8.3"
  }
 },
 "nbformat": 4,
 "nbformat_minor": 4
}

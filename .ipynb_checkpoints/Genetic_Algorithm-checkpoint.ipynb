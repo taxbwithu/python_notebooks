{
 "cells": [
  {
   "cell_type": "code",
   "execution_count": 14,
   "metadata": {},
   "outputs": [
    {
     "name": "stdout",
     "output_type": "stream",
     "text": [
      "(10, 3)\n"
     ]
    }
   ],
   "source": [
    "import numpy as np\n",
    "import random\n",
    "\n",
    "def gen_pop(ep): \n",
    "    ppl = []\n",
    "    for i in range(ep):\n",
    "        x1 = random.uniform(-1.5, 4)\n",
    "        x2 = random.uniform(-3, 4)\n",
    "        fun = np.sin(x1 + x2) + ((x1 - x2) ** 2) - (1.5 * x1) + (2.5 * x2) +1\n",
    "        result = [x1, x2, fun]\n",
    "        ppl.append(result)\n",
    "    return ppl\n",
    "\n",
    "population = np.array(gen_pop(10))\n",
    "print(population.shape)"
   ]
  },
  {
   "cell_type": "markdown",
   "metadata": {},
   "source": [
    "Binarna reprezentacja chromosomu:"
   ]
  },
  {
   "cell_type": "code",
   "execution_count": null,
   "metadata": {},
   "outputs": [],
   "source": [
    "import numpy as np\n",
    "\n",
    "def chain_len(acc):\n",
    "    m1 = np.log2(5,5 * (10 ** acc)) + np.log2(1)\n",
    "    m2 = np.log2(7 * (10 ** acc)) + np.log2(1)"
   ]
  }
 ],
 "metadata": {
  "kernelspec": {
   "display_name": "Python 3",
   "language": "python",
   "name": "python3"
  },
  "language_info": {
   "codemirror_mode": {
    "name": "ipython",
    "version": 3
   },
   "file_extension": ".py",
   "mimetype": "text/x-python",
   "name": "python",
   "nbconvert_exporter": "python",
   "pygments_lexer": "ipython3",
   "version": "3.8.3"
  }
 },
 "nbformat": 4,
 "nbformat_minor": 4
}
